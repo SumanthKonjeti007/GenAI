{
 "cells": [
  {
   "cell_type": "code",
   "execution_count": 1,
   "id": "a8ca12a6",
   "metadata": {},
   "outputs": [
    {
     "name": "stdout",
     "output_type": "stream",
     "text": [
      "Note: you may need to restart the kernel to use updated packages.\n"
     ]
    }
   ],
   "source": [
    "%pip install --quiet --upgrade langchain-text-splitters langchain-community langgraph"
   ]
  },
  {
   "cell_type": "code",
   "execution_count": 67,
   "id": "9e6b0b43",
   "metadata": {},
   "outputs": [
    {
     "name": "stdout",
     "output_type": "stream",
     "text": [
      "API set: True\n",
      "Project: ollama-tests\n"
     ]
    }
   ],
   "source": [
    "import os\n",
    "from dotenv import load_dotenv, find_dotenv\n",
    "\n",
    "load_dotenv(find_dotenv(\".env\"))\n",
    "\n",
    "print(\"API set:\", bool(os.getenv(\"LANGCHAIN_API_KEY\")))\n",
    "print(\"Project:\", os.getenv(\"LANGCHAIN_PROJECT\"))"
   ]
  },
  {
   "cell_type": "code",
   "execution_count": 5,
   "id": "f6805a4d",
   "metadata": {},
   "outputs": [
    {
     "name": "stdout",
     "output_type": "stream",
     "text": [
      "Requirement already satisfied: langchain-ollama in /Users/sumanthkonjeti/Documents/Documents/MyStuff/GenAI/venv/lib/python3.11/site-packages (0.3.7)\n",
      "Requirement already satisfied: langchain-community in /Users/sumanthkonjeti/Documents/Documents/MyStuff/GenAI/venv/lib/python3.11/site-packages (0.3.29)\n",
      "Requirement already satisfied: langchain-core in /Users/sumanthkonjeti/Documents/Documents/MyStuff/GenAI/venv/lib/python3.11/site-packages (0.3.75)\n",
      "Requirement already satisfied: ollama<1.0.0,>=0.5.3 in /Users/sumanthkonjeti/Documents/Documents/MyStuff/GenAI/venv/lib/python3.11/site-packages (from langchain-ollama) (0.5.3)\n",
      "Requirement already satisfied: langsmith>=0.3.45 in /Users/sumanthkonjeti/Documents/Documents/MyStuff/GenAI/venv/lib/python3.11/site-packages (from langchain-core) (0.4.21)\n",
      "Requirement already satisfied: tenacity!=8.4.0,<10.0.0,>=8.1.0 in /Users/sumanthkonjeti/Documents/Documents/MyStuff/GenAI/venv/lib/python3.11/site-packages (from langchain-core) (9.1.2)\n",
      "Requirement already satisfied: jsonpatch<2.0,>=1.33 in /Users/sumanthkonjeti/Documents/Documents/MyStuff/GenAI/venv/lib/python3.11/site-packages (from langchain-core) (1.33)\n",
      "Requirement already satisfied: PyYAML>=5.3 in /Users/sumanthkonjeti/Documents/Documents/MyStuff/GenAI/venv/lib/python3.11/site-packages (from langchain-core) (6.0.2)\n",
      "Requirement already satisfied: typing-extensions>=4.7 in /Users/sumanthkonjeti/Documents/Documents/MyStuff/GenAI/venv/lib/python3.11/site-packages (from langchain-core) (4.15.0)\n",
      "Requirement already satisfied: packaging>=23.2 in /Users/sumanthkonjeti/Documents/Documents/MyStuff/GenAI/venv/lib/python3.11/site-packages (from langchain-core) (25.0)\n",
      "Requirement already satisfied: pydantic>=2.7.4 in /Users/sumanthkonjeti/Documents/Documents/MyStuff/GenAI/venv/lib/python3.11/site-packages (from langchain-core) (2.11.7)\n",
      "Requirement already satisfied: jsonpointer>=1.9 in /Users/sumanthkonjeti/Documents/Documents/MyStuff/GenAI/venv/lib/python3.11/site-packages (from jsonpatch<2.0,>=1.33->langchain-core) (3.0.0)\n",
      "Requirement already satisfied: httpx>=0.27 in /Users/sumanthkonjeti/Documents/Documents/MyStuff/GenAI/venv/lib/python3.11/site-packages (from ollama<1.0.0,>=0.5.3->langchain-ollama) (0.28.1)\n",
      "Requirement already satisfied: langchain<2.0.0,>=0.3.27 in /Users/sumanthkonjeti/Documents/Documents/MyStuff/GenAI/venv/lib/python3.11/site-packages (from langchain-community) (0.3.27)\n",
      "Requirement already satisfied: SQLAlchemy<3,>=1.4 in /Users/sumanthkonjeti/Documents/Documents/MyStuff/GenAI/venv/lib/python3.11/site-packages (from langchain-community) (2.0.43)\n",
      "Requirement already satisfied: requests<3,>=2.32.5 in /Users/sumanthkonjeti/Documents/Documents/MyStuff/GenAI/venv/lib/python3.11/site-packages (from langchain-community) (2.32.5)\n",
      "Requirement already satisfied: aiohttp<4.0.0,>=3.8.3 in /Users/sumanthkonjeti/Documents/Documents/MyStuff/GenAI/venv/lib/python3.11/site-packages (from langchain-community) (3.12.15)\n",
      "Requirement already satisfied: dataclasses-json<0.7,>=0.6.7 in /Users/sumanthkonjeti/Documents/Documents/MyStuff/GenAI/venv/lib/python3.11/site-packages (from langchain-community) (0.6.7)\n",
      "Requirement already satisfied: pydantic-settings<3.0.0,>=2.10.1 in /Users/sumanthkonjeti/Documents/Documents/MyStuff/GenAI/venv/lib/python3.11/site-packages (from langchain-community) (2.10.1)\n",
      "Requirement already satisfied: httpx-sse<1.0.0,>=0.4.0 in /Users/sumanthkonjeti/Documents/Documents/MyStuff/GenAI/venv/lib/python3.11/site-packages (from langchain-community) (0.4.1)\n",
      "Requirement already satisfied: numpy>=1.26.2 in /Users/sumanthkonjeti/Documents/Documents/MyStuff/GenAI/venv/lib/python3.11/site-packages (from langchain-community) (2.3.2)\n",
      "Requirement already satisfied: aiohappyeyeballs>=2.5.0 in /Users/sumanthkonjeti/Documents/Documents/MyStuff/GenAI/venv/lib/python3.11/site-packages (from aiohttp<4.0.0,>=3.8.3->langchain-community) (2.6.1)\n",
      "Requirement already satisfied: aiosignal>=1.4.0 in /Users/sumanthkonjeti/Documents/Documents/MyStuff/GenAI/venv/lib/python3.11/site-packages (from aiohttp<4.0.0,>=3.8.3->langchain-community) (1.4.0)\n",
      "Requirement already satisfied: attrs>=17.3.0 in /Users/sumanthkonjeti/Documents/Documents/MyStuff/GenAI/venv/lib/python3.11/site-packages (from aiohttp<4.0.0,>=3.8.3->langchain-community) (25.3.0)\n",
      "Requirement already satisfied: frozenlist>=1.1.1 in /Users/sumanthkonjeti/Documents/Documents/MyStuff/GenAI/venv/lib/python3.11/site-packages (from aiohttp<4.0.0,>=3.8.3->langchain-community) (1.7.0)\n",
      "Requirement already satisfied: multidict<7.0,>=4.5 in /Users/sumanthkonjeti/Documents/Documents/MyStuff/GenAI/venv/lib/python3.11/site-packages (from aiohttp<4.0.0,>=3.8.3->langchain-community) (6.6.4)\n",
      "Requirement already satisfied: propcache>=0.2.0 in /Users/sumanthkonjeti/Documents/Documents/MyStuff/GenAI/venv/lib/python3.11/site-packages (from aiohttp<4.0.0,>=3.8.3->langchain-community) (0.3.2)\n",
      "Requirement already satisfied: yarl<2.0,>=1.17.0 in /Users/sumanthkonjeti/Documents/Documents/MyStuff/GenAI/venv/lib/python3.11/site-packages (from aiohttp<4.0.0,>=3.8.3->langchain-community) (1.20.1)\n",
      "Requirement already satisfied: marshmallow<4.0.0,>=3.18.0 in /Users/sumanthkonjeti/Documents/Documents/MyStuff/GenAI/venv/lib/python3.11/site-packages (from dataclasses-json<0.7,>=0.6.7->langchain-community) (3.26.1)\n",
      "Requirement already satisfied: typing-inspect<1,>=0.4.0 in /Users/sumanthkonjeti/Documents/Documents/MyStuff/GenAI/venv/lib/python3.11/site-packages (from dataclasses-json<0.7,>=0.6.7->langchain-community) (0.9.0)\n",
      "Requirement already satisfied: langchain-text-splitters<1.0.0,>=0.3.9 in /Users/sumanthkonjeti/Documents/Documents/MyStuff/GenAI/venv/lib/python3.11/site-packages (from langchain<2.0.0,>=0.3.27->langchain-community) (0.3.10)\n",
      "Requirement already satisfied: pip>=25.2 in /Users/sumanthkonjeti/Documents/Documents/MyStuff/GenAI/venv/lib/python3.11/site-packages (from langchain-text-splitters<1.0.0,>=0.3.9->langchain<2.0.0,>=0.3.27->langchain-community) (25.2)\n",
      "Requirement already satisfied: annotated-types>=0.6.0 in /Users/sumanthkonjeti/Documents/Documents/MyStuff/GenAI/venv/lib/python3.11/site-packages (from pydantic>=2.7.4->langchain-core) (0.7.0)\n",
      "Requirement already satisfied: pydantic-core==2.33.2 in /Users/sumanthkonjeti/Documents/Documents/MyStuff/GenAI/venv/lib/python3.11/site-packages (from pydantic>=2.7.4->langchain-core) (2.33.2)\n",
      "Requirement already satisfied: typing-inspection>=0.4.0 in /Users/sumanthkonjeti/Documents/Documents/MyStuff/GenAI/venv/lib/python3.11/site-packages (from pydantic>=2.7.4->langchain-core) (0.4.1)\n",
      "Requirement already satisfied: python-dotenv>=0.21.0 in /Users/sumanthkonjeti/Documents/Documents/MyStuff/GenAI/venv/lib/python3.11/site-packages (from pydantic-settings<3.0.0,>=2.10.1->langchain-community) (1.1.1)\n",
      "Requirement already satisfied: charset_normalizer<4,>=2 in /Users/sumanthkonjeti/Documents/Documents/MyStuff/GenAI/venv/lib/python3.11/site-packages (from requests<3,>=2.32.5->langchain-community) (3.4.3)\n",
      "Requirement already satisfied: idna<4,>=2.5 in /Users/sumanthkonjeti/Documents/Documents/MyStuff/GenAI/venv/lib/python3.11/site-packages (from requests<3,>=2.32.5->langchain-community) (3.10)\n",
      "Requirement already satisfied: urllib3<3,>=1.21.1 in /Users/sumanthkonjeti/Documents/Documents/MyStuff/GenAI/venv/lib/python3.11/site-packages (from requests<3,>=2.32.5->langchain-community) (2.5.0)\n",
      "Requirement already satisfied: certifi>=2017.4.17 in /Users/sumanthkonjeti/Documents/Documents/MyStuff/GenAI/venv/lib/python3.11/site-packages (from requests<3,>=2.32.5->langchain-community) (2025.8.3)\n",
      "Requirement already satisfied: mypy-extensions>=0.3.0 in /Users/sumanthkonjeti/Documents/Documents/MyStuff/GenAI/venv/lib/python3.11/site-packages (from typing-inspect<1,>=0.4.0->dataclasses-json<0.7,>=0.6.7->langchain-community) (1.1.0)\n",
      "Requirement already satisfied: anyio in /Users/sumanthkonjeti/Documents/Documents/MyStuff/GenAI/venv/lib/python3.11/site-packages (from httpx>=0.27->ollama<1.0.0,>=0.5.3->langchain-ollama) (4.10.0)\n",
      "Requirement already satisfied: httpcore==1.* in /Users/sumanthkonjeti/Documents/Documents/MyStuff/GenAI/venv/lib/python3.11/site-packages (from httpx>=0.27->ollama<1.0.0,>=0.5.3->langchain-ollama) (1.0.9)\n",
      "Requirement already satisfied: h11>=0.16 in /Users/sumanthkonjeti/Documents/Documents/MyStuff/GenAI/venv/lib/python3.11/site-packages (from httpcore==1.*->httpx>=0.27->ollama<1.0.0,>=0.5.3->langchain-ollama) (0.16.0)\n",
      "Requirement already satisfied: orjson>=3.9.14 in /Users/sumanthkonjeti/Documents/Documents/MyStuff/GenAI/venv/lib/python3.11/site-packages (from langsmith>=0.3.45->langchain-core) (3.11.3)\n",
      "Requirement already satisfied: requests-toolbelt>=1.0.0 in /Users/sumanthkonjeti/Documents/Documents/MyStuff/GenAI/venv/lib/python3.11/site-packages (from langsmith>=0.3.45->langchain-core) (1.0.0)\n",
      "Requirement already satisfied: zstandard>=0.23.0 in /Users/sumanthkonjeti/Documents/Documents/MyStuff/GenAI/venv/lib/python3.11/site-packages (from langsmith>=0.3.45->langchain-core) (0.24.0)\n",
      "Requirement already satisfied: sniffio>=1.1 in /Users/sumanthkonjeti/Documents/Documents/MyStuff/GenAI/venv/lib/python3.11/site-packages (from anyio->httpx>=0.27->ollama<1.0.0,>=0.5.3->langchain-ollama) (1.3.1)\n",
      "Note: you may need to restart the kernel to use updated packages.\n"
     ]
    }
   ],
   "source": [
    "pip install langchain-ollama langchain-community langchain-core"
   ]
  },
  {
   "cell_type": "code",
   "execution_count": 68,
   "id": "4929b6f8",
   "metadata": {},
   "outputs": [],
   "source": [
    "# Chat Model\n",
    "from langchain_ollama import OllamaLLM\n",
    "llm = OllamaLLM(model=\"llama3.2:1b\")\n",
    "\n",
    "# Embeddings\n",
    "from langchain_ollama import OllamaEmbeddings\n",
    "\n",
    "# Use the exact model name from ollama.list()\n",
    "embeddings = OllamaEmbeddings(model=\"hf.co/CompendiumLabs/bge-base-en-v1.5-gguf:latest\")"
   ]
  },
  {
   "cell_type": "code",
   "execution_count": 69,
   "id": "354dab66",
   "metadata": {},
   "outputs": [
    {
     "name": "stdout",
     "output_type": "stream",
     "text": [
      "✅ Vector store created!\n"
     ]
    }
   ],
   "source": [
    "from langchain_core.vectorstores import InMemoryVectorStore\n",
    "\n",
    "vector_store = InMemoryVectorStore(embedding=embeddings)\n",
    "print(\"✅ Vector store created!\")"
   ]
  },
  {
   "cell_type": "markdown",
   "id": "78d5cac1",
   "metadata": {},
   "source": [
    "UseCase"
   ]
  },
  {
   "cell_type": "code",
   "execution_count": 70,
   "id": "138b5b37",
   "metadata": {},
   "outputs": [
    {
     "name": "stderr",
     "output_type": "stream",
     "text": [
      "11295.59s - pydevd: Sending message related to process being replaced timed-out after 5 seconds\n"
     ]
    },
    {
     "name": "stdout",
     "output_type": "stream",
     "text": [
      "Requirement already satisfied: bs4 in /Users/sumanthkonjeti/Documents/Documents/MyStuff/GenAI/venv/lib/python3.11/site-packages (0.0.2)\n",
      "Requirement already satisfied: beautifulsoup4 in /Users/sumanthkonjeti/Documents/Documents/MyStuff/GenAI/venv/lib/python3.11/site-packages (from bs4) (4.13.5)\n",
      "Requirement already satisfied: soupsieve>1.2 in /Users/sumanthkonjeti/Documents/Documents/MyStuff/GenAI/venv/lib/python3.11/site-packages (from beautifulsoup4->bs4) (2.8)\n",
      "Requirement already satisfied: typing-extensions>=4.0.0 in /Users/sumanthkonjeti/Documents/Documents/MyStuff/GenAI/venv/lib/python3.11/site-packages (from beautifulsoup4->bs4) (4.15.0)\n",
      "Note: you may need to restart the kernel to use updated packages.\n"
     ]
    }
   ],
   "source": [
    "%pip install bs4"
   ]
  },
  {
   "cell_type": "code",
   "execution_count": 71,
   "id": "f789a19b",
   "metadata": {},
   "outputs": [],
   "source": [
    "import bs4\n",
    "from langchain import hub\n",
    "from langchain_community.document_loaders import WebBaseLoader\n",
    "from langchain_core.documents import Document\n",
    "from langchain_text_splitters import RecursiveCharacterTextSplitter\n",
    "from langgraph.graph import START, StateGraph\n",
    "from typing_extensions import List, TypedDict"
   ]
  },
  {
   "cell_type": "markdown",
   "id": "bbbbed52",
   "metadata": {},
   "source": [
    "Document Loader"
   ]
  },
  {
   "cell_type": "code",
   "execution_count": 72,
   "id": "e6aed97f",
   "metadata": {},
   "outputs": [],
   "source": [
    "# Load and chunk contents of the blog\n",
    "loader = WebBaseLoader(\n",
    "    web_paths=(\"https://lilianweng.github.io/posts/2023-06-23-agent/\",),\n",
    "    bs_kwargs=dict(\n",
    "        parse_only=bs4.SoupStrainer(\n",
    "            class_=(\"post-content\", \"post-title\", \"post-header\")\n",
    "        )\n",
    "    ),\n",
    ")\n",
    "docs = loader.load()"
   ]
  },
  {
   "cell_type": "code",
   "execution_count": 73,
   "id": "974dcf62",
   "metadata": {},
   "outputs": [
    {
     "name": "stdout",
     "output_type": "stream",
     "text": [
      "Number of documents: 1\n",
      "First document content length: 43047\n",
      "Metadata: {'source': 'https://lilianweng.github.io/posts/2023-06-23-agent/'}\n"
     ]
    }
   ],
   "source": [
    "print(f\"Number of documents: {len(docs)}\")\n",
    "print(f\"First document content length: {len(docs[0].page_content)}\")\n",
    "print(f\"Metadata: {docs[0].metadata}\")"
   ]
  },
  {
   "cell_type": "code",
   "execution_count": 74,
   "id": "d8450370",
   "metadata": {},
   "outputs": [],
   "source": [
    "text_splitter = RecursiveCharacterTextSplitter(chunk_size=1000, chunk_overlap=200)\n",
    "all_splits = text_splitter.split_documents(docs)"
   ]
  },
  {
   "cell_type": "code",
   "execution_count": 75,
   "id": "e740a7e6",
   "metadata": {},
   "outputs": [
    {
     "data": {
      "text/plain": [
       "63"
      ]
     },
     "execution_count": 75,
     "metadata": {},
     "output_type": "execute_result"
    }
   ],
   "source": [
    "len(all_splits)"
   ]
  },
  {
   "cell_type": "code",
   "execution_count": 76,
   "id": "20bb40d3",
   "metadata": {},
   "outputs": [
    {
     "name": "stdout",
     "output_type": "stream",
     "text": [
      "Available models:\n",
      "models=[Model(model='hf.co/bartowski/Llama-3.2-1B-Instruct-GGUF:latest', modified_at=datetime.datetime(2025, 8, 31, 12, 51, 10, 240689, tzinfo=TzInfo(-04:00)), digest='042cf58aa32fa6ce631caff838fc9efd05313a629530756ccf59308eaa49b8aa', size=807696561, details=ModelDetails(parent_model='', format='gguf', family='llama', families=['llama'], parameter_size='1.24B', quantization_level='unknown')), Model(model='hf.co/CompendiumLabs/bge-base-en-v1.5-gguf:latest', modified_at=datetime.datetime(2025, 8, 31, 12, 51, 5, 301862, tzinfo=TzInfo(-04:00)), digest='98c4eb4a3287679e9d01ee6bd664136c194871e741bb405b082ffa65fed19c95', size=68348847, details=ModelDetails(parent_model='', format='gguf', family='bert', families=['bert'], parameter_size='109M', quantization_level='unknown'))]\n"
     ]
    }
   ],
   "source": [
    "import ollama\n",
    "print(\"Available models:\")\n",
    "print(ollama.list())"
   ]
  },
  {
   "cell_type": "code",
   "execution_count": 77,
   "id": "6a0ebe93",
   "metadata": {},
   "outputs": [
    {
     "name": "stdout",
     "output_type": "stream",
     "text": [
      "✅ Embeddings working! Length: 768\n"
     ]
    }
   ],
   "source": [
    "test_embeddings = embeddings.embed_documents([\"Hello world\"])\n",
    "print(f\"✅ Embeddings working! Length: {len(test_embeddings[0])}\")"
   ]
  },
  {
   "cell_type": "code",
   "execution_count": 78,
   "id": "5c4c02e8",
   "metadata": {},
   "outputs": [
    {
     "name": "stdout",
     "output_type": "stream",
     "text": [
      "✅ Documents added successfully!\n"
     ]
    }
   ],
   "source": [
    "# Index chunks\n",
    "_ = vector_store.add_documents(documents=all_splits)\n",
    "print(\"✅ Documents added successfully!\")"
   ]
  },
  {
   "cell_type": "code",
   "execution_count": 80,
   "id": "94740fbb",
   "metadata": {},
   "outputs": [
    {
     "name": "stderr",
     "output_type": "stream",
     "text": [
      "/Users/sumanthkonjeti/Documents/Documents/MyStuff/GenAI/venv/lib/python3.11/site-packages/langsmith/client.py:290: LangSmithMissingAPIKeyWarning: API key must be provided when using hosted LangSmith API\n",
      "  warnings.warn(\n"
     ]
    }
   ],
   "source": [
    "prompt = hub.pull(\"rlm/rag-prompt\")"
   ]
  },
  {
   "cell_type": "code",
   "execution_count": 82,
   "id": "5aee5e9f",
   "metadata": {},
   "outputs": [],
   "source": [
    "# from langsmith import Client\n",
    "# client = Client()  # reads env vars loaded above\n",
    "# print([p.name for p in client.list_projects()][:5])\n"
   ]
  },
  {
   "cell_type": "code",
   "execution_count": 57,
   "id": "14540c90",
   "metadata": {},
   "outputs": [],
   "source": [
    "# Define state for application\n",
    "class State(TypedDict):\n",
    "    question: str\n",
    "    context: List[Document]\n",
    "    answer: str"
   ]
  },
  {
   "cell_type": "code",
   "execution_count": 58,
   "id": "01086af6",
   "metadata": {},
   "outputs": [],
   "source": [
    "# Define application steps\n",
    "def retrieve(state: State):\n",
    "    retrieved_docs = vector_store.similarity_search(state[\"question\"])\n",
    "    return {\"context\": retrieved_docs}\n",
    "\n",
    "\n",
    "def generate(state: State):\n",
    "    docs_content = \"\\n\\n\".join(doc.page_content for doc in state[\"context\"])\n",
    "    messages = prompt.invoke({\"question\": state[\"question\"], \"context\": docs_content})\n",
    "    response = llm.invoke(messages)\n",
    "    return {\"answer\": response.content}"
   ]
  },
  {
   "cell_type": "code",
   "execution_count": 59,
   "id": "6a18f457",
   "metadata": {},
   "outputs": [],
   "source": [
    "# Compile application and test\n",
    "graph_builder = StateGraph(State).add_sequence([retrieve, generate])\n",
    "graph_builder.add_edge(START, \"retrieve\")\n",
    "graph = graph_builder.compile()"
   ]
  },
  {
   "cell_type": "code",
   "execution_count": null,
   "id": "c65bb32e",
   "metadata": {},
   "outputs": [],
   "source": [
    "response = graph.invoke({\"question\": \"What is Task Decomposition?\"})\n",
    "print(response[\"answer\"])"
   ]
  },
  {
   "cell_type": "code",
   "execution_count": null,
   "id": "d119e7ff",
   "metadata": {},
   "outputs": [],
   "source": []
  }
 ],
 "metadata": {
  "kernelspec": {
   "display_name": "venv",
   "language": "python",
   "name": "python3"
  },
  "language_info": {
   "codemirror_mode": {
    "name": "ipython",
    "version": 3
   },
   "file_extension": ".py",
   "mimetype": "text/x-python",
   "name": "python",
   "nbconvert_exporter": "python",
   "pygments_lexer": "ipython3",
   "version": "3.11.8"
  }
 },
 "nbformat": 4,
 "nbformat_minor": 5
}
